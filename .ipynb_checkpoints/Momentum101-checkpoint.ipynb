{
 "cells": [
  {
   "cell_type": "code",
   "execution_count": null,
   "id": "4031f559-f15b-4823-b950-165613ea99db",
   "metadata": {},
   "outputs": [],
   "source": [
    "'''\n",
    "Trying out momentum trading signals\n",
    "\n",
    "only using momentum as a signal. Very risky and not worth it but a learning experience\n",
    "\n",
    "thesis: Ride the wave when it is rapidly falling up, get off when it is rapidly falling down.\n",
    "Buy high, sell higher\n",
    "\n",
    "combine these 3:\n",
    "\n",
    "1. Rate of change (ROC)\n",
    "    percentage change of closing prices\n",
    "    closing prices with significant difference between timestamps\n",
    "\n",
    "2. \n",
    "'''\n",
    "\n"
   ]
  }
 ],
 "metadata": {
  "kernelspec": {
   "display_name": "Python 3 (ipykernel)",
   "language": "python",
   "name": "python3"
  },
  "language_info": {
   "codemirror_mode": {
    "name": "ipython",
    "version": 3
   },
   "file_extension": ".py",
   "mimetype": "text/x-python",
   "name": "python",
   "nbconvert_exporter": "python",
   "pygments_lexer": "ipython3",
   "version": "3.12.3"
  }
 },
 "nbformat": 4,
 "nbformat_minor": 5
}
